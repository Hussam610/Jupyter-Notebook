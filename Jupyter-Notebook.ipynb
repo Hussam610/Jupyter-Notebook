{
 "cells": [
  {
   "cell_type": "markdown",
   "id": "e99b9285-e59c-4440-960f-62525529d3b1",
   "metadata": {},
   "source": [
    "# Data Science Notebook"
   ]
  },
  {
   "cell_type": "markdown",
   "id": "e4b93923-e9b0-4909-8438-929936de8787",
   "metadata": {},
   "source": [
    "## Introduction\n",
    "This notebook contains exercises related to data science, including listing languages, libraries, tools, and performing some basic arithmetic operations.\n"
   ]
  },
  {
   "cell_type": "markdown",
   "id": "48531273-5c16-4176-b256-bced5cc8440b",
   "metadata": {},
   "source": [
    "## Data Science Languages\n",
    "- Python\n",
    "- R\n",
    "- SQL\n",
    "- Julia\n",
    "- Scala"
   ]
  },
  {
   "cell_type": "markdown",
   "id": "96ae0c80-f1dd-4f39-868d-2634839d51ea",
   "metadata": {},
   "source": [
    "## Data Science Libraries\n",
    "- Pandas\n",
    "- NumPy\n",
    "- Matplotlib\n",
    "- Scikit-learn\n",
    "- TensorFlow"
   ]
  },
  {
   "cell_type": "markdown",
   "id": "24d1a084-845c-4ac0-ab82-1b48895ff54f",
   "metadata": {},
   "source": [
    "## Data Science Tools\n",
    "| Tool           | Description                        |\n",
    "|----------------|------------------------------------|\n",
    "| Jupyter        | Interactive computing environment  |\n",
    "| RStudio        | IDE for R                          |\n",
    "| Apache Spark   | Cluster-computing framework        |\n",
    "| TensorFlow     | Machine learning library           |\n",
    "| RapidMiner     | Data science platform              |"
   ]
  },
  {
   "cell_type": "markdown",
   "id": "218d7a61-6dd7-481b-912f-6048abe7d81b",
   "metadata": {},
   "source": [
    "## Arithmetic Expression Examples\n",
    "Below are examples of simple arithmetic expressions."
   ]
  },
  {
   "cell_type": "code",
   "execution_count": 8,
   "id": "8a113305-0019-444e-8f71-99f9bbece691",
   "metadata": {},
   "outputs": [
    {
     "data": {
      "text/plain": [
       "24"
      ]
     },
     "execution_count": 8,
     "metadata": {},
     "output_type": "execute_result"
    }
   ],
   "source": [
    "# Multiply and add numbers\n",
    "a = 5\n",
    "b = 4\n",
    "result = (a * b) + b\n",
    "result"
   ]
  },
  {
   "cell_type": "code",
   "execution_count": 11,
   "id": "4624b72d-d336-41aa-8ca1-c2a16c1355f2",
   "metadata": {},
   "outputs": [
    {
     "data": {
      "text/plain": [
       "2.5"
      ]
     },
     "execution_count": 11,
     "metadata": {},
     "output_type": "execute_result"
    }
   ],
   "source": [
    "# Convert minutes to hours\n",
    "minutes = 150\n",
    "hours = minutes / 60\n",
    "hours"
   ]
  },
  {
   "cell_type": "markdown",
   "id": "0f73caa2-d705-49ad-9502-f9111a8c1ad7",
   "metadata": {},
   "source": [
    "## Objectives\n",
    "- List data science languages\n",
    "- List data science libraries\n",
    "- Create a table of data science tools\n",
    "- Perform arithmetic operations\n",
    "- Convert time units"
   ]
  },
  {
   "cell_type": "markdown",
   "id": "79dbfd8e-0732-4584-a13b-d3eb879109ed",
   "metadata": {},
   "source": [
    "## Author\n",
    "Hussam Eddin"
   ]
  },
  {
   "cell_type": "code",
   "execution_count": null,
   "id": "cf6cf5ee-ceed-4723-a4f9-ff4d0e88d25b",
   "metadata": {},
   "outputs": [],
   "source": []
  }
 ],
 "metadata": {
  "kernelspec": {
   "display_name": "Python 3 (ipykernel)",
   "language": "python",
   "name": "python3"
  },
  "language_info": {
   "codemirror_mode": {
    "name": "ipython",
    "version": 3
   },
   "file_extension": ".py",
   "mimetype": "text/x-python",
   "name": "python",
   "nbconvert_exporter": "python",
   "pygments_lexer": "ipython3",
   "version": "3.13.0"
  }
 },
 "nbformat": 4,
 "nbformat_minor": 5
}
